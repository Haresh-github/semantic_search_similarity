{
 "cells": [
  {
   "cell_type": "code",
   "execution_count": 3,
   "metadata": {},
   "outputs": [
    {
     "name": "stderr",
     "output_type": "stream",
     "text": [
      "/Users/haresh.sam/Documents/tempV/venv_flower/lib/python3.9/site-packages/transformers/tokenization_utils_base.py:1601: FutureWarning: `clean_up_tokenization_spaces` was not set. It will be set to `True` by default. This behavior will be depracted in transformers v4.45, and will be then set to `False` by default. For more details check this issue: https://github.com/huggingface/transformers/issues/31884\n",
      "  warnings.warn(\n"
     ]
    },
    {
     "name": "stdout",
     "output_type": "stream",
     "text": [
      "File path: /Users/haresh.sam/Documents/tempV/table.csv\n",
      "Query given: ethnic\n",
      "Best Match Found at index: 33\n",
      "Similarity Score: 0.6264677\n",
      "title              ethnicity in the ancient world - did it matter?\n",
      "author                                              erich s. gruen\n",
      "category                                              anthropology\n",
      "publish_year                               first published in 2020\n",
      "title_id                                        /works/ol22153255w\n",
      "author_id                        /authors/ol398860a/erich_s._gruen\n",
      "cover_url                         /images/icons/avatar_book-sm.png\n",
      "book_stats       publish date 2020|publisher  de gruyter gmbh, ...\n",
      "descriptions     this edition doesn't have a description yet. c...\n",
      "reading_stats       0 want to read|0 currently reading|0 have read\n",
      "Name: 33, dtype: object\n",
      "Runtime: 55.36014485359192 seconds\n"
     ]
    }
   ],
   "source": [
    "import pandas as pd\n",
    "from sentence_transformers import SentenceTransformer\n",
    "import numpy as np\n",
    "import time\n",
    "start_time = time.time()\n",
    "def load_data(file_path):\n",
    "    return pd.read_csv(file_path).head(100)\n",
    "def lowercase_all(df):\n",
    "    df = df.map(lambda x: x.lower() if isinstance(x, str) else x)\n",
    "    return df\n",
    "def generate_embeddings(model, df):\n",
    "    embeddings = {}\n",
    "    for column in df.columns:\n",
    "        column_embeddings = model.encode(df[column].astype(str).tolist(), convert_to_tensor=True)\n",
    "        embeddings[column] = column_embeddings.cpu().numpy()\n",
    "    return embeddings\n",
    "def compute_cosine_similarity(query_embedding, entry_embeddings):\n",
    "    similarities = np.dot(entry_embeddings, query_embedding.T)\n",
    "    return similarities.max()\n",
    "def calculate_similarities(df, query, model):\n",
    "    query_embedding = model.encode([query], convert_to_tensor=True).cpu().numpy()\n",
    "    results = []\n",
    "    embeddings = generate_embeddings(model, df)\n",
    "    for index, row in df.iterrows():\n",
    "        row_similarities = []\n",
    "        for column in df.columns:\n",
    "            entry_embeddings = embeddings[column][index].reshape(1, -1)\n",
    "            similarity = compute_cosine_similarity(query_embedding, entry_embeddings)\n",
    "            row_similarities.append((column, similarity))\n",
    "        max_similarity = max(row_similarities, key=lambda x: x[1])[1]\n",
    "        results.append((index, max_similarity))\n",
    "    return results\n",
    "def find_best_match(similarities):\n",
    "    best_match = max(similarities, key=lambda x: x[1], default=None)\n",
    "    return best_match\n",
    "def process_data(file_path, query):\n",
    "    df = load_data(file_path)\n",
    "    df = lowercase_all(df)\n",
    "    model = SentenceTransformer('all-MiniLM-L6-v2')\n",
    "    similarities = calculate_similarities(df, query, model)\n",
    "    best_match = find_best_match(similarities)\n",
    "    return best_match, df\n",
    "def main():\n",
    "    file_path = input(\"Enter the path to the CSV file: \")\n",
    "    user_query = input(\"Enter the query to match: \")\n",
    "    best_match, df = process_data(file_path, user_query)\n",
    "    \n",
    "    if best_match is not None:\n",
    "        index, similarity = best_match\n",
    "        print(\"File path:\", file_path)\n",
    "        print(\"Query given:\", user_query)\n",
    "        print(\"Best Match Found at index:\", index)\n",
    "        print(\"Similarity Score:\", similarity)\n",
    "        print(df.iloc[index])\n",
    "    else:\n",
    "        print(\"No match found\")\n",
    "if __name__ == \"__main__\":\n",
    "    main()\n",
    "end_time = time.time()\n",
    "runtime = end_time - start_time\n",
    "print(f\"Runtime: {runtime} seconds\")"
   ]
  }
 ],
 "metadata": {
  "kernelspec": {
   "display_name": "Python 3 (ipykernel)",
   "language": "python",
   "name": "python3"
  },
  "language_info": {
   "codemirror_mode": {
    "name": "ipython",
    "version": 3
   },
   "file_extension": ".py",
   "mimetype": "text/x-python",
   "name": "python",
   "nbconvert_exporter": "python",
   "pygments_lexer": "ipython3",
   "version": "3.9.6"
  }
 },
 "nbformat": 4,
 "nbformat_minor": 2
}
